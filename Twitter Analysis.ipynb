{
 "cells": [
  {
   "cell_type": "code",
   "execution_count": 1,
   "metadata": {},
   "outputs": [],
   "source": [
    "import pandas as pd\n",
    "import numpy as np\n",
    "import tweepy as tw\n",
    "import re\n",
    "import spacy\n",
    "import itertools\n",
    "import collections\n",
    "from tqdm import tqdm\n",
    "import matplotlib.pyplot as plt\n",
    "%matplotlib inline"
   ]
  },
  {
   "cell_type": "code",
   "execution_count": 2,
   "metadata": {},
   "outputs": [],
   "source": [
    "api_key = 'XXX'\n",
    "api_secret_key = 'XXX'\n",
    "bearer_token =  'XXX'"
   ]
  },
  {
   "cell_type": "code",
   "execution_count": 3,
   "metadata": {},
   "outputs": [],
   "source": [
    "auth = tw.OAuthHandler(api_key, api_secret_key)\n",
    "#auth = tw.AppAuthHandler(api_key, api_secret_key)\n",
    "#auth.set_access_token(api_key, api_secret_key)\n",
    "api = tw.API(auth, wait_on_rate_limit=True)"
   ]
  },
  {
   "cell_type": "markdown",
   "metadata": {},
   "source": [
    "# Data acquisition"
   ]
  },
  {
   "cell_type": "code",
   "execution_count": 6,
   "metadata": {},
   "outputs": [],
   "source": [
    "parties = ['__Lewica', 'pisorgpl', 'Platforma_org', 'KONFEDERACJA_', 'nowePSL', 'PL_2050']"
   ]
  },
  {
   "cell_type": "code",
   "execution_count": 7,
   "metadata": {},
   "outputs": [],
   "source": [
    "userID='__Lewica'\n",
    "tweets = api.user_timeline(screen_name=userID, \n",
    "                           # 200 is the maximum allowed count\n",
    "                           count=20,\n",
    "                           include_rts = False,\n",
    "                           # Necessary to keep full_text \n",
    "                           # otherwise only the first 140 words are extracted\n",
    "                           tweet_mode = 'extended'\n",
    "                           )"
   ]
  },
  {
   "cell_type": "code",
   "execution_count": 8,
   "metadata": {},
   "outputs": [],
   "source": [
    "userID='pisorgpl'\n",
    "tweets = api.user_timeline(screen_name=userID, \n",
    "                           # 200 is the maximum allowed count\n",
    "                           count=20,\n",
    "                           include_rts = False,\n",
    "                           # Necessary to keep full_text \n",
    "                           # otherwise only the first 140 words are extracted\n",
    "                           tweet_mode = 'extended'\n",
    "                           )\n",
    "all_tweets = [tweet.full_text for tweet in tweets]"
   ]
  },
  {
   "cell_type": "code",
   "execution_count": 9,
   "metadata": {},
   "outputs": [
    {
     "data": {
      "text/plain": [
       "['🗨️ Prezes #PiS, Wicepremier J. #Kaczyński dla @Int_Wydarzenia: Chcemy kontynuować politykę prospołeczną, która jednak zawsze musi być wsparta tym, co służy rozwojowi gospodarczemu. #PolskiŁad 🇵🇱 https://t.co/ZKTLXr69hp',\n",
       " '🗨️ Prezes #PiS, Wicepremier J. #Kaczyński dla @Int_Wydarzenia: Cel jest jasny: na początku dziesięciolecia zrównać się z europejskim poziomem życia. #PolskiŁad 🇵🇱 https://t.co/xolAh92dRC',\n",
       " 'Politycy #PiS jutro (21.05) w mediach:\\n07:05 @PolskieRadio24 - @radekfogiel \\n08:06 @PolskieRadio24 - @MariaKoc1 \\n08:10 @tvp_info - @FilipKaczynski \\n08:30 @wirtualnapolska - @PiotrMuller https://t.co/apIm0pv3vY',\n",
       " '🗨️ Prezes #PiS, Wicepremier J. #Kaczyński dla @Int_Wydarzenia o reformie podatkowej w #PolskiŁad.🇵🇱 https://t.co/jxKBCbShY6',\n",
       " '👥 💬 Zapraszamy na debatę z udziałem Ministra @MZ_GOV_PL @a_niedzielski: #PolskiŁad sposobem na odbudowę zdrowia Polaków po #COVID19. #7procNaZdrowie\\n\\n🕙 Piątek (21 maja) o godz. 10:00.\\n🎥 Transmisja 👉 https://t.co/BnzUMvonXG. https://t.co/E5hEqVLTDe']"
      ]
     },
     "execution_count": 9,
     "metadata": {},
     "output_type": "execute_result"
    }
   ],
   "source": [
    "all_tweets[:5]"
   ]
  },
  {
   "cell_type": "code",
   "execution_count": 10,
   "metadata": {},
   "outputs": [
    {
     "name": "stdout",
     "output_type": "stream",
     "text": [
      "ID: 1395467722239119366\n",
      "2021-05-20 19:53:26\n",
      "🗨️ Prezes #PiS, Wicepremier J. #Kaczyński dla @Int_Wydarzenia: Chcemy kontynuować politykę prospołeczną, która jednak zawsze musi być wsparta tym, co służy rozwojowi gospodarczemu. #PolskiŁad 🇵🇱 https://t.co/ZKTLXr69hp\n",
      "\n",
      "\n",
      "ID: 1395458553415147523\n",
      "2021-05-20 19:17:00\n",
      "🗨️ Prezes #PiS, Wicepremier J. #Kaczyński dla @Int_Wydarzenia: Cel jest jasny: na początku dziesięciolecia zrównać się z europejskim poziomem życia. #PolskiŁad 🇵🇱 https://t.co/xolAh92dRC\n",
      "\n",
      "\n",
      "ID: 1395443648083513344\n",
      "2021-05-20 18:17:46\n",
      "Politycy #PiS jutro (21.05) w mediach:\n",
      "07:05 @PolskieRadio24 - @radekfogiel \n",
      "08:06 @PolskieRadio24 - @MariaKoc1 \n",
      "08:10 @tvp_info - @FilipKaczynski \n",
      "08:30 @wirtualnapolska - @PiotrMuller https://t.co/apIm0pv3vY\n",
      "\n",
      "\n"
     ]
    }
   ],
   "source": [
    "for info in tweets[:3]:\n",
    "     print(\"ID: {}\".format(info.id))\n",
    "     print(info.created_at)\n",
    "     print(info.full_text)\n",
    "     print(\"\\n\")"
   ]
  },
  {
   "cell_type": "code",
   "execution_count": 11,
   "metadata": {},
   "outputs": [
    {
     "name": "stdout",
     "output_type": "stream",
     "text": [
      "N of tweets downloaded till now 162\n",
      "N of tweets downloaded till now 299\n",
      "N of tweets downloaded till now 441\n",
      "N of tweets downloaded till now 588\n",
      "N of tweets downloaded till now 728\n",
      "N of tweets downloaded till now 871\n",
      "N of tweets downloaded till now 1011\n",
      "N of tweets downloaded till now 1156\n",
      "N of tweets downloaded till now 1306\n",
      "N of tweets downloaded till now 1451\n",
      "N of tweets downloaded till now 1599\n",
      "N of tweets downloaded till now 1745\n",
      "N of tweets downloaded till now 1880\n",
      "N of tweets downloaded till now 2029\n",
      "N of tweets downloaded till now 2160\n",
      "N of tweets downloaded till now 2287\n",
      "N of tweets downloaded till now 2310\n"
     ]
    }
   ],
   "source": [
    "# extract all tweets\n",
    "all_tweets = []\n",
    "all_tweets.extend(tweets)\n",
    "oldest_id = tweets[-1].id\n",
    "while True:\n",
    "    tweets = api.user_timeline(screen_name=userID, \n",
    "                           # 200 is the maximum allowed count\n",
    "                           count=200,\n",
    "                           include_rts = False,\n",
    "                           max_id = oldest_id - 1,\n",
    "                           # Necessary to keep full_text \n",
    "                           # otherwise only the first 140 words are extracted\n",
    "                           tweet_mode = 'extended'\n",
    "                           )\n",
    "    if len(tweets) == 0:\n",
    "        break\n",
    "    oldest_id = tweets[-1].id\n",
    "    all_tweets.extend(tweets)\n",
    "    print('N of tweets downloaded till now {}'.format(len(all_tweets)))"
   ]
  },
  {
   "cell_type": "code",
   "execution_count": 12,
   "metadata": {},
   "outputs": [
    {
     "data": {
      "text/html": [
       "<div>\n",
       "<style scoped>\n",
       "    .dataframe tbody tr th:only-of-type {\n",
       "        vertical-align: middle;\n",
       "    }\n",
       "\n",
       "    .dataframe tbody tr th {\n",
       "        vertical-align: top;\n",
       "    }\n",
       "\n",
       "    .dataframe thead th {\n",
       "        text-align: right;\n",
       "    }\n",
       "</style>\n",
       "<table border=\"1\" class=\"dataframe\">\n",
       "  <thead>\n",
       "    <tr style=\"text-align: right;\">\n",
       "      <th></th>\n",
       "      <th>name</th>\n",
       "      <th>id</th>\n",
       "      <th>created_at</th>\n",
       "      <th>favorite_count</th>\n",
       "      <th>retweet_count</th>\n",
       "      <th>text</th>\n",
       "    </tr>\n",
       "  </thead>\n",
       "  <tbody>\n",
       "    <tr>\n",
       "      <th>0</th>\n",
       "      <td>Prawo i Sprawiedliwość</td>\n",
       "      <td>1395467722239119366</td>\n",
       "      <td>2021-05-20 19:53:26</td>\n",
       "      <td>100</td>\n",
       "      <td>36</td>\n",
       "      <td>🗨️ Prezes #PiS, Wicepremier J. #Kaczyński dla ...</td>\n",
       "    </tr>\n",
       "    <tr>\n",
       "      <th>1</th>\n",
       "      <td>Prawo i Sprawiedliwość</td>\n",
       "      <td>1395458553415147523</td>\n",
       "      <td>2021-05-20 19:17:00</td>\n",
       "      <td>160</td>\n",
       "      <td>54</td>\n",
       "      <td>🗨️ Prezes #PiS, Wicepremier J. #Kaczyński dla ...</td>\n",
       "    </tr>\n",
       "    <tr>\n",
       "      <th>2</th>\n",
       "      <td>Prawo i Sprawiedliwość</td>\n",
       "      <td>1395443648083513344</td>\n",
       "      <td>2021-05-20 18:17:46</td>\n",
       "      <td>20</td>\n",
       "      <td>6</td>\n",
       "      <td>Politycy #PiS jutro (21.05) w mediach:\\n07:05 ...</td>\n",
       "    </tr>\n",
       "  </tbody>\n",
       "</table>\n",
       "</div>"
      ],
      "text/plain": [
       "                     name                   id          created_at  \\\n",
       "0  Prawo i Sprawiedliwość  1395467722239119366 2021-05-20 19:53:26   \n",
       "1  Prawo i Sprawiedliwość  1395458553415147523 2021-05-20 19:17:00   \n",
       "2  Prawo i Sprawiedliwość  1395443648083513344 2021-05-20 18:17:46   \n",
       "\n",
       "   favorite_count  retweet_count  \\\n",
       "0             100             36   \n",
       "1             160             54   \n",
       "2              20              6   \n",
       "\n",
       "                                                text  \n",
       "0  🗨️ Prezes #PiS, Wicepremier J. #Kaczyński dla ...  \n",
       "1  🗨️ Prezes #PiS, Wicepremier J. #Kaczyński dla ...  \n",
       "2  Politycy #PiS jutro (21.05) w mediach:\\n07:05 ...  "
      ]
     },
     "execution_count": 12,
     "metadata": {},
     "output_type": "execute_result"
    }
   ],
   "source": [
    "outtweets = [[tweet.user.name, \n",
    "              tweet.id_str, \n",
    "              tweet.created_at, \n",
    "              tweet.favorite_count, \n",
    "              tweet.retweet_count, \n",
    "              tweet.full_text.encode(\"utf-8\").decode(\"utf-8\")] \n",
    "             for idx,tweet in enumerate(all_tweets)]\n",
    "df = pd.DataFrame(outtweets,columns=[\"name\", \"id\",\"created_at\",\"favorite_count\",\"retweet_count\", \"text\"])\n",
    "df.to_csv('%s_tweets.csv' % userID,index=False)\n",
    "df.head(3)"
   ]
  },
  {
   "cell_type": "code",
   "execution_count": 13,
   "metadata": {},
   "outputs": [],
   "source": [
    "def get_raw_tweets(parties=parties):\n",
    "    \"This function creates a df with raw tweets, they need to be processed later\"\n",
    "    \n",
    "    df = pd.DataFrame(columns=[\"name\", \"id\",\"created_at\",\"favorite_count\",\"retweet_count\", \"text\"])\n",
    "    for party in parties:\n",
    "        all_tweets = []\n",
    "        print(f'Now downloading tweets of {party}')\n",
    "        tweets = api.user_timeline(screen_name=party, \n",
    "                               # 200 is the maximum allowed count\n",
    "                               count=200,\n",
    "                               include_rts = False,\n",
    "                               tweet_mode = 'extended'\n",
    "                               )\n",
    "        all_tweets.extend(tweets)\n",
    "        oldest_id = tweets[-1].id\n",
    "        while True:\n",
    "            tweets = api.user_timeline(screen_name=party, \n",
    "                                   # 200 is the maximum allowed count\n",
    "                                   count=200,\n",
    "                                   include_rts = False,\n",
    "                                   max_id = oldest_id - 1,\n",
    "                                   # Necessary to keep full_text \n",
    "                                   # otherwise only the first 140 words are extracted\n",
    "                                   tweet_mode = 'extended'\n",
    "                                   )\n",
    "            if len(tweets) == 0:\n",
    "                break\n",
    "            oldest_id = tweets[-1].id\n",
    "            all_tweets.extend(tweets)\n",
    "            print('N of tweets of downloaded till now {}'.format(len(all_tweets)))\n",
    "            \n",
    "        outtweets = [[tweet.user.name, \n",
    "              tweet.id_str, \n",
    "              tweet.created_at, \n",
    "              tweet.favorite_count, \n",
    "              tweet.retweet_count, \n",
    "              tweet.full_text.encode(\"utf-8\").decode(\"utf-8\")] for idx,tweet in enumerate(all_tweets)]\n",
    "\n",
    "        df_temp = pd.DataFrame(outtweets, columns=[\"name\", \"id\",\"created_at\",\"favorite_count\",\"retweet_count\", \"text\"])\n",
    "        df = df.append(df_temp)\n",
    "    return df"
   ]
  },
  {
   "cell_type": "code",
   "execution_count": 14,
   "metadata": {},
   "outputs": [
    {
     "name": "stdout",
     "output_type": "stream",
     "text": [
      "Now downloading tweets of __Lewica\n",
      "N of tweets of downloaded till now 98\n",
      "N of tweets of downloaded till now 158\n",
      "N of tweets of downloaded till now 221\n",
      "N of tweets of downloaded till now 261\n",
      "N of tweets of downloaded till now 309\n",
      "N of tweets of downloaded till now 351\n",
      "N of tweets of downloaded till now 402\n",
      "N of tweets of downloaded till now 451\n",
      "N of tweets of downloaded till now 519\n",
      "N of tweets of downloaded till now 553\n",
      "N of tweets of downloaded till now 612\n",
      "N of tweets of downloaded till now 669\n",
      "N of tweets of downloaded till now 715\n",
      "N of tweets of downloaded till now 759\n",
      "N of tweets of downloaded till now 809\n",
      "N of tweets of downloaded till now 841\n",
      "Now downloading tweets of pisorgpl\n",
      "N of tweets of downloaded till now 284\n",
      "N of tweets of downloaded till now 430\n",
      "N of tweets of downloaded till now 578\n",
      "N of tweets of downloaded till now 718\n",
      "N of tweets of downloaded till now 858\n",
      "N of tweets of downloaded till now 997\n",
      "N of tweets of downloaded till now 1145\n",
      "N of tweets of downloaded till now 1293\n",
      "N of tweets of downloaded till now 1441\n",
      "N of tweets of downloaded till now 1586\n",
      "N of tweets of downloaded till now 1733\n",
      "N of tweets of downloaded till now 1867\n",
      "N of tweets of downloaded till now 2015\n",
      "N of tweets of downloaded till now 2151\n",
      "N of tweets of downloaded till now 2279\n",
      "N of tweets of downloaded till now 2310\n",
      "Now downloading tweets of Platforma_org\n",
      "N of tweets of downloaded till now 33\n",
      "N of tweets of downloaded till now 67\n",
      "N of tweets of downloaded till now 112\n",
      "N of tweets of downloaded till now 162\n",
      "N of tweets of downloaded till now 218\n",
      "N of tweets of downloaded till now 254\n",
      "N of tweets of downloaded till now 276\n",
      "N of tweets of downloaded till now 310\n",
      "N of tweets of downloaded till now 344\n",
      "N of tweets of downloaded till now 378\n",
      "N of tweets of downloaded till now 428\n",
      "N of tweets of downloaded till now 463\n",
      "N of tweets of downloaded till now 504\n",
      "N of tweets of downloaded till now 534\n",
      "N of tweets of downloaded till now 580\n",
      "Now downloading tweets of KONFEDERACJA_\n",
      "N of tweets of downloaded till now 232\n",
      "N of tweets of downloaded till now 372\n",
      "N of tweets of downloaded till now 512\n",
      "N of tweets of downloaded till now 653\n",
      "N of tweets of downloaded till now 798\n",
      "N of tweets of downloaded till now 945\n",
      "N of tweets of downloaded till now 1088\n",
      "N of tweets of downloaded till now 1225\n",
      "N of tweets of downloaded till now 1363\n",
      "N of tweets of downloaded till now 1502\n",
      "N of tweets of downloaded till now 1651\n",
      "N of tweets of downloaded till now 1801\n",
      "N of tweets of downloaded till now 1968\n",
      "N of tweets of downloaded till now 2124\n",
      "N of tweets of downloaded till now 2266\n",
      "N of tweets of downloaded till now 2309\n",
      "Now downloading tweets of nowePSL\n",
      "N of tweets of downloaded till now 292\n",
      "N of tweets of downloaded till now 420\n",
      "N of tweets of downloaded till now 563\n",
      "N of tweets of downloaded till now 701\n",
      "N of tweets of downloaded till now 836\n",
      "N of tweets of downloaded till now 982\n",
      "N of tweets of downloaded till now 1117\n",
      "N of tweets of downloaded till now 1241\n",
      "N of tweets of downloaded till now 1370\n",
      "N of tweets of downloaded till now 1503\n",
      "N of tweets of downloaded till now 1662\n",
      "N of tweets of downloaded till now 1789\n",
      "N of tweets of downloaded till now 1934\n",
      "N of tweets of downloaded till now 2073\n",
      "N of tweets of downloaded till now 2226\n",
      "N of tweets of downloaded till now 2274\n",
      "Now downloading tweets of PL_2050\n",
      "N of tweets of downloaded till now 155\n",
      "N of tweets of downloaded till now 249\n",
      "N of tweets of downloaded till now 360\n",
      "N of tweets of downloaded till now 432\n",
      "N of tweets of downloaded till now 529\n",
      "N of tweets of downloaded till now 606\n",
      "N of tweets of downloaded till now 704\n",
      "N of tweets of downloaded till now 768\n",
      "N of tweets of downloaded till now 871\n",
      "N of tweets of downloaded till now 989\n",
      "N of tweets of downloaded till now 1096\n",
      "N of tweets of downloaded till now 1197\n",
      "N of tweets of downloaded till now 1305\n",
      "N of tweets of downloaded till now 1393\n",
      "N of tweets of downloaded till now 1490\n",
      "N of tweets of downloaded till now 1541\n"
     ]
    }
   ],
   "source": [
    "df_raw = get_raw_tweets()"
   ]
  },
  {
   "cell_type": "code",
   "execution_count": 384,
   "metadata": {},
   "outputs": [
    {
     "data": {
      "text/html": [
       "<div>\n",
       "<style scoped>\n",
       "    .dataframe tbody tr th:only-of-type {\n",
       "        vertical-align: middle;\n",
       "    }\n",
       "\n",
       "    .dataframe tbody tr th {\n",
       "        vertical-align: top;\n",
       "    }\n",
       "\n",
       "    .dataframe thead th {\n",
       "        text-align: right;\n",
       "    }\n",
       "</style>\n",
       "<table border=\"1\" class=\"dataframe\">\n",
       "  <thead>\n",
       "    <tr style=\"text-align: right;\">\n",
       "      <th></th>\n",
       "      <th>name</th>\n",
       "      <th>id</th>\n",
       "      <th>created_at</th>\n",
       "      <th>favorite_count</th>\n",
       "      <th>retweet_count</th>\n",
       "      <th>text</th>\n",
       "    </tr>\n",
       "  </thead>\n",
       "  <tbody>\n",
       "    <tr>\n",
       "      <th>0</th>\n",
       "      <td>Lewica</td>\n",
       "      <td>1392140219600850945</td>\n",
       "      <td>2021-05-11 15:31:07</td>\n",
       "      <td>6</td>\n",
       "      <td>1</td>\n",
       "      <td>#LewicawMediach: @WojciechKoniec4 dziś o 20:13...</td>\n",
       "    </tr>\n",
       "    <tr>\n",
       "      <th>1</th>\n",
       "      <td>Lewica</td>\n",
       "      <td>1392129219820494850</td>\n",
       "      <td>2021-05-11 14:47:25</td>\n",
       "      <td>6</td>\n",
       "      <td>1</td>\n",
       "      <td>#LewicawMediach: Marek #Dyduch dziś o 20:20 w ...</td>\n",
       "    </tr>\n",
       "    <tr>\n",
       "      <th>2</th>\n",
       "      <td>Lewica</td>\n",
       "      <td>1392118366056456193</td>\n",
       "      <td>2021-05-11 14:04:17</td>\n",
       "      <td>12</td>\n",
       "      <td>2</td>\n",
       "      <td>#LewicawMediach: @RobertBiedron dziś o 20:00 w...</td>\n",
       "    </tr>\n",
       "    <tr>\n",
       "      <th>3</th>\n",
       "      <td>Lewica</td>\n",
       "      <td>1392029199578370049</td>\n",
       "      <td>2021-05-11 08:09:58</td>\n",
       "      <td>15</td>\n",
       "      <td>3</td>\n",
       "      <td>#LewicawMediach: @K_Smiszek dziś o 13:00 w #On...</td>\n",
       "    </tr>\n",
       "    <tr>\n",
       "      <th>4</th>\n",
       "      <td>Lewica</td>\n",
       "      <td>1391798276043776003</td>\n",
       "      <td>2021-05-10 16:52:22</td>\n",
       "      <td>33</td>\n",
       "      <td>2</td>\n",
       "      <td>#LewicawMediach: @RobertBiedron jutro o 9:30 w...</td>\n",
       "    </tr>\n",
       "  </tbody>\n",
       "</table>\n",
       "</div>"
      ],
      "text/plain": [
       "     name                   id          created_at favorite_count  \\\n",
       "0  Lewica  1392140219600850945 2021-05-11 15:31:07              6   \n",
       "1  Lewica  1392129219820494850 2021-05-11 14:47:25              6   \n",
       "2  Lewica  1392118366056456193 2021-05-11 14:04:17             12   \n",
       "3  Lewica  1392029199578370049 2021-05-11 08:09:58             15   \n",
       "4  Lewica  1391798276043776003 2021-05-10 16:52:22             33   \n",
       "\n",
       "  retweet_count                                               text  \n",
       "0             1  #LewicawMediach: @WojciechKoniec4 dziś o 20:13...  \n",
       "1             1  #LewicawMediach: Marek #Dyduch dziś o 20:20 w ...  \n",
       "2             2  #LewicawMediach: @RobertBiedron dziś o 20:00 w...  \n",
       "3             3  #LewicawMediach: @K_Smiszek dziś o 13:00 w #On...  \n",
       "4             2  #LewicawMediach: @RobertBiedron jutro o 9:30 w...  "
      ]
     },
     "execution_count": 384,
     "metadata": {},
     "output_type": "execute_result"
    }
   ],
   "source": [
    "df_raw.head()"
   ]
  },
  {
   "cell_type": "code",
   "execution_count": 385,
   "metadata": {},
   "outputs": [],
   "source": [
    "df_raw.to_csv('%s_tweets.csv' % userID,index=False)"
   ]
  },
  {
   "cell_type": "markdown",
   "metadata": {},
   "source": [
    "## Cleaning the data"
   ]
  },
  {
   "cell_type": "code",
   "execution_count": 386,
   "metadata": {},
   "outputs": [],
   "source": [
    "nlp = spacy.load(\"pl_core_news_sm\")\n",
    "all_stopwords = nlp.Defaults.stop_words # how to load stopwords"
   ]
  },
  {
   "cell_type": "code",
   "execution_count": 387,
   "metadata": {},
   "outputs": [],
   "source": [
    "all_tweets = df_raw['text']"
   ]
  },
  {
   "cell_type": "code",
   "execution_count": 388,
   "metadata": {},
   "outputs": [],
   "source": [
    "def remove_url(txt):\n",
    "    return \" \".join(re.sub(r'https?:\\/\\/.*[\\r\\n]*',\"\",txt).split())"
   ]
  },
  {
   "cell_type": "code",
   "execution_count": 391,
   "metadata": {},
   "outputs": [
    {
     "data": {
      "text/plain": [
       "['#LewicawMediach: @WojciechKoniec4 dziś o 20:13 w #Minęła20 @tvp_info',\n",
       " '#LewicawMediach: Marek #Dyduch dziś o 20:20 w #DebataDnia @PolsatNewsPL',\n",
       " '#LewicawMediach: @RobertBiedron dziś o 20:00 w @KropkaNadI w @tvn24',\n",
       " '#LewicawMediach: @K_Smiszek dziś o 13:00 w #OnetOpinie @onetpl',\n",
       " '#LewicawMediach: @RobertBiedron jutro o 9:30 w #ExpressBiedrzyckiej @se_pl',\n",
       " '#LewicawMediach: @KUeberhan jutro o godz. 8:18 w #Minęła8 @tvp_info',\n",
       " '#LewicawMediach: Wiesław @Szczepanski2019 jutro o 7:35 na antenie @PolskieRadio24',\n",
       " 'Mija 10 lat od uchwalenia Konwencji Stambulskiej. Z inicjatywy @GabrielaMorStan w @PolskiSenat odbyła się dyskusja o tym ważnym dokumencie. Rząd, zamiast walczyć z przemocą i działać na rzecz jej ofiar rozważa wypowiedzenie Konwencji Stambulskiej! #Lewica #KonwencjaStambulska',\n",
       " '10 maja 2020r. nie odbyły się wybory prezydenckie, które kosztowały budżet państwa 133 mln zł! Przypominamy, że Lewica złożyła w tej sprawie zawiadomienie do Prokuratury Regionalnej w Warszawie na premiera @MorawieckiM oraz wicepremiera @SasinJacek. 👉',\n",
       " '#LewicawMediach: @K_Smiszek dziś o 20:20 w #DebataDnia @PolsatNewsPL']"
      ]
     },
     "execution_count": 391,
     "metadata": {},
     "output_type": "execute_result"
    }
   ],
   "source": [
    "#all_tweets_no_urls = [remove_url(tweet.full_text) for tweet in all_tweets]\n",
    "all_tweets_no_urls = [remove_url(tweet) for tweet in all_tweets]\n",
    "all_tweets_no_urls[:10]"
   ]
  },
  {
   "cell_type": "code",
   "execution_count": 392,
   "metadata": {},
   "outputs": [],
   "source": [
    "words_in_tweet = [tweet.lower().split() for tweet in all_tweets_no_urls]"
   ]
  },
  {
   "cell_type": "code",
   "execution_count": 393,
   "metadata": {},
   "outputs": [],
   "source": [
    "# delete stopwords\n",
    "tweets_nsw = [[word for word in tweet if not word in all_stopwords] for tweet in words_in_tweet]"
   ]
  },
  {
   "cell_type": "code",
   "execution_count": 400,
   "metadata": {},
   "outputs": [
    {
     "name": "stderr",
     "output_type": "stream",
     "text": [
      "100%|████████████████████████████████████████████████████████████████████████| 10029/10029 [00:00<00:00, 147771.12it/s]\n"
     ]
    }
   ],
   "source": [
    "# Delete tags\n",
    "regex = re.compile(r'.*@')\n",
    "tweets_nsw = [[i for i in tweet if not regex.match(i)] for tweet in tweets_nsw]\n",
    "\n",
    "# only words composed of letters\n",
    "regex = re.compile(r'^[a-z]+$')\n",
    "tweets_nsw = [[i for i in tweet if regex.match(i)] for tweet in tqdm(tweets_nsw)]"
   ]
  },
  {
   "cell_type": "code",
   "execution_count": null,
   "metadata": {},
   "outputs": [],
   "source": [
    "# Lemmatization\n",
    "# doc = nlp(\" \".join(tweets_nsw[0]))\n",
    "# [token.lemma_ for token in doc if not token.is_punct]\n",
    "tweets_lemma = [[token.lemma_ for token in nlp(\" \".join(tweet)) if not token.is_punct] for tweet in tqdm(tweets_nsw)]\n",
    "# it deletes also hashtags which might be problematic\n",
    "tweets_lemma[:5]"
   ]
  },
  {
   "cell_type": "markdown",
   "metadata": {},
   "source": [
    "## Summary - word count"
   ]
  },
  {
   "cell_type": "code",
   "execution_count": null,
   "metadata": {},
   "outputs": [],
   "source": [
    "# List of all words across tweets\n",
    "all_words_no_urls = list(itertools.chain(*tweets_lemma))\n",
    "\n",
    "# Create counter\n",
    "counts_no_urls = collections.Counter(all_words_no_urls)\n",
    "\n",
    "counts_no_urls.most_common(200)[:5]"
   ]
  },
  {
   "cell_type": "code",
   "execution_count": 292,
   "metadata": {},
   "outputs": [],
   "source": [
    "# clean_tweets_ncw = pd.DataFrame(counts_nsw_nc.most_common(15),\n",
    "#                              columns=['words', 'count'])\n",
    "# clean_tweets_ncw.head()"
   ]
  },
  {
   "cell_type": "code",
   "execution_count": 452,
   "metadata": {},
   "outputs": [],
   "source": [
    "words_common = pd.DataFrame(columns=['words', 'count', 'name'])\n",
    "\n",
    "for party in df['name'].unique():\n",
    "    all_words_no_urls = list(itertools.chain(*[tweet.split() for tweet in df[df['name']==party]['text_clear']]))\n",
    "    counts_no_urls = collections.Counter(all_words_no_urls)\n",
    "    clean_temp = pd.DataFrame(counts_no_urls.most_common(200), columns=['words', 'count'])\n",
    "    clean_temp['name'] = party\n",
    "    words_common = words_common.append(clean_temp)"
   ]
  },
  {
   "cell_type": "markdown",
   "metadata": {},
   "source": [
    "## Summary - main dataframe"
   ]
  },
  {
   "cell_type": "markdown",
   "metadata": {},
   "source": [
    "#### Data preparation"
   ]
  },
  {
   "cell_type": "code",
   "execution_count": 458,
   "metadata": {},
   "outputs": [],
   "source": [
    "df = df_raw.copy()\n",
    "df['text_clear'] = [' '.join(tweet) for tweet in tweets_lemma]"
   ]
  },
  {
   "cell_type": "code",
   "execution_count": 459,
   "metadata": {},
   "outputs": [],
   "source": [
    "def count_points(tweets, dictionary):\n",
    "    \"\"\"This is a function which takes a list of tweets in a df column (each word after a space)\n",
    "    and returns a score for tweet in a given category\"\"\"\n",
    "    score = []\n",
    "    for tweet in tweets:\n",
    "        i = 0\n",
    "        for word in dictionary:\n",
    "            i = i + tweet.split().count(word)\n",
    "        #print(tweet)\n",
    "        #print(i)\n",
    "        score.append(i)\n",
    "    return score"
   ]
  },
  {
   "cell_type": "code",
   "execution_count": 473,
   "metadata": {},
   "outputs": [],
   "source": [
    "# vocabulary\n",
    "economy = ['gospodarka', 'inwestycja', 'pieniądz', 'mieszkanie', 'zawodowy', 'rolnictwo', 'praca', 'bezrobocie', 'przemysł', 'emerytura', 'płaca']\n",
    "health = ['szpital', 'pandemia', 'zdrowie', 'szczepienie', 'maseczka']\n",
    "justice = ['sąd', 'trybunał', 'sprawiedliwość', 'konstytucja']\n",
    "social = ['lgbtq', 'kościół', 'aborcja', 'religia', 'lgbt', 'geje', 'kobieta', 'stambulska']\n",
    "\n",
    "vocab = dict({'economy': economy, \n",
    "              'health': health,\n",
    "             'justice': justice,\n",
    "             'social': social})"
   ]
  },
  {
   "cell_type": "code",
   "execution_count": 474,
   "metadata": {},
   "outputs": [],
   "source": [
    "def calculate_scores(dataframe=df, dimensions=list(vocab.keys())):\n",
    "    \"\"\"This function adds scores in each category in the dataframe\"\"\"\n",
    "    for dimension in dimensions:\n",
    "        dataframe[dimension + '_score'] = count_points(dataframe['text_clear'], vocab[dimension])"
   ]
  },
  {
   "cell_type": "code",
   "execution_count": 475,
   "metadata": {},
   "outputs": [
    {
     "data": {
      "text/html": [
       "<div>\n",
       "<style scoped>\n",
       "    .dataframe tbody tr th:only-of-type {\n",
       "        vertical-align: middle;\n",
       "    }\n",
       "\n",
       "    .dataframe tbody tr th {\n",
       "        vertical-align: top;\n",
       "    }\n",
       "\n",
       "    .dataframe thead th {\n",
       "        text-align: right;\n",
       "    }\n",
       "</style>\n",
       "<table border=\"1\" class=\"dataframe\">\n",
       "  <thead>\n",
       "    <tr style=\"text-align: right;\">\n",
       "      <th></th>\n",
       "      <th>name</th>\n",
       "      <th>id</th>\n",
       "      <th>created_at</th>\n",
       "      <th>favorite_count</th>\n",
       "      <th>retweet_count</th>\n",
       "      <th>text</th>\n",
       "      <th>text_clear</th>\n",
       "      <th>economy_score</th>\n",
       "      <th>health_score</th>\n",
       "      <th>justice_score</th>\n",
       "      <th>social_score</th>\n",
       "      <th>word_count</th>\n",
       "    </tr>\n",
       "  </thead>\n",
       "  <tbody>\n",
       "    <tr>\n",
       "      <th>0</th>\n",
       "      <td>Lewica</td>\n",
       "      <td>1392140219600850945</td>\n",
       "      <td>2021-05-11 15:31:07</td>\n",
       "      <td>6</td>\n",
       "      <td>1</td>\n",
       "      <td>#LewicawMediach: @WojciechKoniec4 dziś o 20:13...</td>\n",
       "      <td></td>\n",
       "      <td>0</td>\n",
       "      <td>0</td>\n",
       "      <td>0</td>\n",
       "      <td>0</td>\n",
       "      <td>0</td>\n",
       "    </tr>\n",
       "    <tr>\n",
       "      <th>1</th>\n",
       "      <td>Lewica</td>\n",
       "      <td>1392129219820494850</td>\n",
       "      <td>2021-05-11 14:47:25</td>\n",
       "      <td>6</td>\n",
       "      <td>1</td>\n",
       "      <td>#LewicawMediach: Marek #Dyduch dziś o 20:20 w ...</td>\n",
       "      <td>marka</td>\n",
       "      <td>0</td>\n",
       "      <td>0</td>\n",
       "      <td>0</td>\n",
       "      <td>0</td>\n",
       "      <td>1</td>\n",
       "    </tr>\n",
       "    <tr>\n",
       "      <th>2</th>\n",
       "      <td>Lewica</td>\n",
       "      <td>1392118366056456193</td>\n",
       "      <td>2021-05-11 14:04:17</td>\n",
       "      <td>12</td>\n",
       "      <td>2</td>\n",
       "      <td>#LewicawMediach: @RobertBiedron dziś o 20:00 w...</td>\n",
       "      <td></td>\n",
       "      <td>0</td>\n",
       "      <td>0</td>\n",
       "      <td>0</td>\n",
       "      <td>0</td>\n",
       "      <td>0</td>\n",
       "    </tr>\n",
       "    <tr>\n",
       "      <th>3</th>\n",
       "      <td>Lewica</td>\n",
       "      <td>1392029199578370049</td>\n",
       "      <td>2021-05-11 08:09:58</td>\n",
       "      <td>15</td>\n",
       "      <td>3</td>\n",
       "      <td>#LewicawMediach: @K_Smiszek dziś o 13:00 w #On...</td>\n",
       "      <td></td>\n",
       "      <td>0</td>\n",
       "      <td>0</td>\n",
       "      <td>0</td>\n",
       "      <td>0</td>\n",
       "      <td>0</td>\n",
       "    </tr>\n",
       "    <tr>\n",
       "      <th>4</th>\n",
       "      <td>Lewica</td>\n",
       "      <td>1391798276043776003</td>\n",
       "      <td>2021-05-10 16:52:22</td>\n",
       "      <td>33</td>\n",
       "      <td>2</td>\n",
       "      <td>#LewicawMediach: @RobertBiedron jutro o 9:30 w...</td>\n",
       "      <td>jutro</td>\n",
       "      <td>0</td>\n",
       "      <td>0</td>\n",
       "      <td>0</td>\n",
       "      <td>0</td>\n",
       "      <td>1</td>\n",
       "    </tr>\n",
       "  </tbody>\n",
       "</table>\n",
       "</div>"
      ],
      "text/plain": [
       "     name                   id          created_at favorite_count  \\\n",
       "0  Lewica  1392140219600850945 2021-05-11 15:31:07              6   \n",
       "1  Lewica  1392129219820494850 2021-05-11 14:47:25              6   \n",
       "2  Lewica  1392118366056456193 2021-05-11 14:04:17             12   \n",
       "3  Lewica  1392029199578370049 2021-05-11 08:09:58             15   \n",
       "4  Lewica  1391798276043776003 2021-05-10 16:52:22             33   \n",
       "\n",
       "  retweet_count                                               text text_clear  \\\n",
       "0             1  #LewicawMediach: @WojciechKoniec4 dziś o 20:13...              \n",
       "1             1  #LewicawMediach: Marek #Dyduch dziś o 20:20 w ...      marka   \n",
       "2             2  #LewicawMediach: @RobertBiedron dziś o 20:00 w...              \n",
       "3             3  #LewicawMediach: @K_Smiszek dziś o 13:00 w #On...              \n",
       "4             2  #LewicawMediach: @RobertBiedron jutro o 9:30 w...      jutro   \n",
       "\n",
       "   economy_score  health_score  justice_score  social_score  word_count  \n",
       "0              0             0              0             0           0  \n",
       "1              0             0              0             0           1  \n",
       "2              0             0              0             0           0  \n",
       "3              0             0              0             0           0  \n",
       "4              0             0              0             0           1  "
      ]
     },
     "execution_count": 475,
     "metadata": {},
     "output_type": "execute_result"
    }
   ],
   "source": [
    "calculate_scores()\n",
    "df.head()"
   ]
  },
  {
   "cell_type": "code",
   "execution_count": 476,
   "metadata": {},
   "outputs": [],
   "source": [
    "df['word_count'] = df['text_clear'].apply(lambda x: len(x.split()))"
   ]
  },
  {
   "cell_type": "code",
   "execution_count": 477,
   "metadata": {},
   "outputs": [],
   "source": [
    "# regex cheatsheet\n",
    "# abc…\tLetters\n",
    "# 123…\tDigits\n",
    "# \\d\tAny Digit\n",
    "# \\D\tAny Non-digit character\n",
    "# .\tAny Character\n",
    "# \\.\tPeriod\n",
    "# [abc]\tOnly a, b, or c\n",
    "# [^abc]\tNot a, b, nor c\n",
    "# [a-z]\tCharacters a to z\n",
    "# [0-9]\tNumbers 0 to 9\n",
    "# \\w\tAny Alphanumeric character\n",
    "# \\W\tAny Non-alphanumeric character\n",
    "# {m}\tm Repetitions\n",
    "# {m,n}\tm to n Repetitions\n",
    "# *\tZero or more repetitions\n",
    "# +\tOne or more repetitions\n",
    "# ?\tOptional character\n",
    "# \\s\tAny Whitespace\n",
    "# \\S\tAny Non-whitespace character\n",
    "# ^…$\tStarts and ends\n",
    "# (…)\tCapture Group\n",
    "# (a(bc))\tCapture Sub-group\n",
    "# (.*)\tCapture all\n",
    "# (abc|def)\tMatches abc or def"
   ]
  },
  {
   "cell_type": "markdown",
   "metadata": {},
   "source": [
    "### Summary"
   ]
  },
  {
   "cell_type": "code",
   "execution_count": 571,
   "metadata": {},
   "outputs": [],
   "source": [
    "score_summary = df.pivot_table(index='name', values=['economy_score', 'health_score', 'justice_score', 'social_score', 'word_count'], aggfunc='sum')"
   ]
  },
  {
   "cell_type": "code",
   "execution_count": 572,
   "metadata": {},
   "outputs": [
    {
     "data": {
      "text/plain": [
       "{'economy_score': 'Economy',\n",
       " 'health_score': 'Health',\n",
       " 'justice_score': 'Justice',\n",
       " 'social_score': 'Identity'}"
      ]
     },
     "execution_count": 572,
     "metadata": {},
     "output_type": "execute_result"
    }
   ],
   "source": [
    "cols = score_summary.columns[:-1]; cols\n",
    "for col in cols:\n",
    "    score_summary[col] = score_summary[col]*100/score_summary['word_count']\n",
    "    # values in percent\n",
    "score_summary\n",
    "cols_d = ['Economy', 'Health', 'Justice', 'Identity']\n",
    "dict_cols = {col : col_d for col, col_d in zip(cols, cols_d)}\n",
    "dict_cols"
   ]
  },
  {
   "cell_type": "markdown",
   "metadata": {},
   "source": [
    "# Visualization"
   ]
  },
  {
   "cell_type": "code",
   "execution_count": 563,
   "metadata": {},
   "outputs": [
    {
     "name": "stderr",
     "output_type": "stream",
     "text": [
      "C:\\Users\\bartd\\anaconda3\\lib\\site-packages\\matplotlib\\backends\\backend_agg.py:238: RuntimeWarning: Glyph 127808 missing from current font.\n",
      "  font.set_text(s, 0.0, flags=flags)\n",
      "C:\\Users\\bartd\\anaconda3\\lib\\site-packages\\matplotlib\\backends\\backend_agg.py:201: RuntimeWarning: Glyph 127808 missing from current font.\n",
      "  font.set_text(s, 0, flags=flags)\n"
     ]
    },
    {
     "data": {
      "image/png": "[encoded data removed]",
      "text/plain": [
       "<Figure size 576x576 with 6 Axes>"
      ]
     },
     "metadata": {},
     "output_type": "display_data"
    }
   ],
   "source": [
    "with plt.style.context('seaborn'):\n",
    "    fig, axs = plt.subplots(2, 3, figsize=(8,8))\n",
    "    for i, party in enumerate(count.name.unique()):\n",
    "        temp = 231+i  # this is to index the position of the subplot\n",
    "        ax=plt.subplot(231+i) #subplots chart starts at 1\n",
    "        ax.barh(count[count['name']==party]['words'], count[count['name']==party]['count'])\n",
    "        ax.set_title(f'{party}')\n",
    "        #ax.set_frame_on(False)\n",
    "        #plt.subplots_adjust(hspace = .5,wspace=.001)\n",
    "    fig.suptitle('The most popular words in twitter used by each party', fontsize=16)\n",
    "    plt.tight_layout()"
   ]
  },
  {
   "cell_type": "code",
   "execution_count": 579,
   "metadata": {},
   "outputs": [
    {
     "name": "stderr",
     "output_type": "stream",
     "text": [
      "C:\\Users\\bartd\\anaconda3\\lib\\site-packages\\matplotlib\\backends\\backend_agg.py:238: RuntimeWarning: Glyph 127808 missing from current font.\n",
      "  font.set_text(s, 0.0, flags=flags)\n",
      "C:\\Users\\bartd\\anaconda3\\lib\\site-packages\\matplotlib\\backends\\backend_agg.py:201: RuntimeWarning: Glyph 127808 missing from current font.\n",
      "  font.set_text(s, 0, flags=flags)\n"
     ]
    },
    {
     "data": {
      "image/png": "[encoded data removed]",
      "text/plain": [
       "<Figure size 648x648 with 4 Axes>"
      ]
     },
     "metadata": {},
     "output_type": "display_data"
    }
   ],
   "source": [
    "with plt.style.context('seaborn'):\n",
    "    fig, axs = plt.subplots(2, 2, figsize=(9,9))\n",
    "    for i, col in enumerate(score_summary.columns[:-1]):\n",
    "        score_summary.sort_values(col, inplace=True)\n",
    "        ax=plt.subplot(221+i) #subplots chart starts at 1\n",
    "        ax.barh(score_summary.index, score_summary[col])\n",
    "        ax.set_title(f'{dict_cols[col]}')\n",
    "        ax.set_xlabel('Percent of all words (%)')\n",
    "        #ax.set_frame_on(False)\n",
    "        #plt.subplots_adjust(hspace = .5,wspace=.001)\n",
    "    fig.suptitle('Share of words of a party related to a category in the subtitle', fontsize=16)\n",
    "plt.tight_layout()"
   ]
  },
  {
   "cell_type": "code",
   "execution_count": null,
   "metadata": {},
   "outputs": [],
   "source": []
  }
 ],
 "metadata": {
  "kernelspec": {
   "display_name": "Python 3",
   "language": "python",
   "name": "python3"
  },
  "language_info": {
   "codemirror_mode": {
    "name": "ipython",
    "version": 3
   },
   "file_extension": ".py",
   "mimetype": "text/x-python",
   "name": "python",
   "nbconvert_exporter": "python",
   "pygments_lexer": "ipython3",
   "version": "3.8.5"
  }
 },
 "nbformat": 4,
 "nbformat_minor": 4
}
